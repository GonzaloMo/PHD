{
 "cells": [
  {
   "cell_type": "code",
   "execution_count": 1,
   "metadata": {},
   "outputs": [],
   "source": [
    "import Env_utils as env_util\n",
    "from Render import Render\n",
    "import numpy as np\n",
    "import random\n",
    "from Problem_Generator import Rover_PG\n",
    "from ipycanvas import Canvas, hold_canvas\n",
    "import math\n",
    "from time import sleep\n",
    "\n",
    "\n",
    "Rend = Render()"
   ]
  },
  {
   "cell_type": "markdown",
   "metadata": {},
   "source": [
    "# Tests\n",
    "## Room Generator \n",
    "In this test we can generate as many rooms as we want with random layout"
   ]
  },
  {
   "cell_type": "code",
   "execution_count": 2,
   "metadata": {
    "scrolled": false
   },
   "outputs": [
    {
     "data": {
      "application/vnd.jupyter.widget-view+json": {
       "model_id": "077124af519f40bdb37adfb92896a0fd",
       "version_major": 2,
       "version_minor": 0
      },
      "text/plain": [
       "MultiCanvas(height=910, width=910)"
      ]
     },
     "metadata": {},
     "output_type": "display_data"
    }
   ],
   "source": [
    "number_of_rooms = 4\n",
    "P1 = Rover_PG()\n",
    "zone_coord = [[0,0], [8,0], [8,8],[0,8]]\n",
    "for i in range(0,number_of_rooms):\n",
    "    if i >= 4 and i != 0:\n",
    "        P1.generate_1_Zone('Room_'+str(i),random.randint(1, 3), np.array(zone_coord[i]))\n",
    "    else:\n",
    "        P1.generate_1_Zone('Room_'+str(i),i, np.array(zone_coord[i]))\n",
    "\n",
    "# Render\n",
    "Rend.update_env(P1.Zones)\n",
    "#canvas_1 = Rend.Single_Zone(P1.Zones[0])\n",
    "canvas_1 = Rend.env_render()\n",
    "canvas_1"
   ]
  },
  {
   "cell_type": "markdown",
   "metadata": {},
   "source": [
    "## Connection Generator\n",
    "The connection can only be establish in 8 spots marken with a star in this picture"
   ]
  },
  {
   "cell_type": "code",
   "execution_count": 3,
   "metadata": {
    "scrolled": false
   },
   "outputs": [
    {
     "name": "stdout",
     "output_type": "stream",
     "text": [
      "z = 0 loc SE --- z = 1 loc NW\n",
      "z = 0 loc SE --- z = 2 loc NW\n",
      "z = 1 loc NW --- z = 0 loc SE\n",
      "z = 1 loc SE --- z = 2 loc NW\n",
      "z = 1 loc NW --- z = 3 loc SE\n",
      "z = 2 loc NW --- z = 0 loc SE\n",
      "z = 2 loc NW --- z = 1 loc SE\n",
      "z = 2 loc SE --- z = 3 loc NW\n",
      "z = 3 loc NW --- z = 2 loc SE\n",
      "z = 3 loc SE --- z = 1 loc NW\n"
     ]
    },
    {
     "data": {
      "application/vnd.jupyter.widget-view+json": {
       "model_id": "6ae3e1ef7f5844d2bd4227ec0a04108b",
       "version_major": 2,
       "version_minor": 0
      },
      "text/plain": [
       "MultiCanvas(height=910, width=910)"
      ]
     },
     "metadata": {},
     "output_type": "display_data"
    }
   ],
   "source": [
    "Location = 'Random'\n",
    "Possible_Locations = P1.Zones[0].Possible_Locations\n",
    "if Location == 'Random':\n",
    "    loc_1 = random.choice(Possible_Locations)\n",
    "else:\n",
    "    loc_1 = Location\n",
    "Bat_C = 0\n",
    "\n",
    "ind_1 = Possible_Locations.index(loc_1)\n",
    "ind_2 = int(7-ind_1)\n",
    "loc_2 = Possible_Locations[ind_2]\n",
    "P1.generate_1_connection(P1.Zones[0].id, P1.Zones[1].id, loc_1, loc_2, Bat_C, 0)\n",
    "P1.generate_1_connection(P1.Zones[0].id, P1.Zones[2].id, loc_1, loc_2, Bat_C, 0)\n",
    "P1.generate_1_connection(P1.Zones[1].id, P1.Zones[2].id, loc_1, loc_2, Bat_C, 0)\n",
    "P1.generate_1_connection(P1.Zones[2].id, P1.Zones[3].id, loc_1, loc_2, Bat_C, 0)\n",
    "P1.generate_1_connection(P1.Zones[3].id, P1.Zones[1].id, loc_1, loc_2, Bat_C, 0)\n",
    "\n",
    "# Render\n",
    "Rend.update_env(P1.Zones)\n",
    "canvas_1 = Rend.env_render()\n",
    "canvas_1"
   ]
  },
  {
   "cell_type": "markdown",
   "metadata": {},
   "source": [
    "## Create Robot Class         "
   ]
  },
  {
   "cell_type": "code",
   "execution_count": 4,
   "metadata": {},
   "outputs": [],
   "source": [
    "class Robot(object):\n",
    "    def __init__(self, initial_pos=[2.5,2.5], inital_room_id=0):\n",
    "        self.pos = np.asarray(initial_pos)\n",
    "        self.room_id = inital_room_id\n",
    "        \n",
    "    def move_to(self, x, y):\n",
    "        self.pos = np.array([x, y])\n",
    "        \n",
    "    def change_room(self, next_room):\n",
    "        self.room_id = next_room"
   ]
  },
  {
   "cell_type": "markdown",
   "metadata": {},
   "source": [
    "## Render Robot\n",
    "Render the robot in a random room and position"
   ]
  },
  {
   "cell_type": "code",
   "execution_count": 5,
   "metadata": {
    "scrolled": false
   },
   "outputs": [
    {
     "data": {
      "application/vnd.jupyter.widget-view+json": {
       "model_id": "6ae3e1ef7f5844d2bd4227ec0a04108b",
       "version_major": 2,
       "version_minor": 0
      },
      "text/plain": [
       "MultiCanvas(height=910, width=910)"
      ]
     },
     "metadata": {},
     "output_type": "display_data"
    },
    {
     "name": "stdout",
     "output_type": "stream",
     "text": [
      "z = 1 loc NW --- z = 3 loc SE\n"
     ]
    }
   ],
   "source": [
    "RBT = Robot()\n",
    "P1.generate_1_connection(P1.Zones[0].id, P1.Zones[1].id, 'S', 'N', 0, 0)\n",
    "canvas_1 = Rend.Single_connection(canvas_1, P1.Zones[1], P1.Zones[3], color='blue')\n",
    "Rend.update_env(P1.Zones)\n",
    "canvas_1 = Rend.rover(canvas_1, RBT.pos, P1.Zones[RBT.room_id])\n",
    "canvas_1"
   ]
  },
  {
   "cell_type": "markdown",
   "metadata": {},
   "source": [
    "# Whole Problem Generator"
   ]
  },
  {
   "cell_type": "code",
   "execution_count": 6,
   "metadata": {},
   "outputs": [
    {
     "name": "stdout",
     "output_type": "stream",
     "text": [
      "z = 0 loc S --- z = 1 loc N\n",
      "z = 0 loc E --- z = 2 loc W\n",
      "z = 0 loc SE --- z = 3 loc NW\n",
      "z = 1 loc N --- z = 0 loc S\n",
      "z = 1 loc E --- z = 3 loc W\n",
      "z = 1 loc NE --- z = 2 loc SW\n",
      "z = 2 loc S --- z = 3 loc N\n",
      "z = 2 loc W --- z = 0 loc E\n",
      "z = 2 loc SW --- z = 1 loc NE\n",
      "z = 3 loc W --- z = 1 loc E\n",
      "z = 3 loc N --- z = 2 loc S\n",
      "z = 3 loc NW --- z = 0 loc SE\n"
     ]
    },
    {
     "data": {
      "application/vnd.jupyter.widget-view+json": {
       "model_id": "eb92ad6bfe3a49eda210581e3307c308",
       "version_major": 2,
       "version_minor": 0
      },
      "text/plain": [
       "MultiCanvas(height=910, width=910)"
      ]
     },
     "metadata": {},
     "output_type": "display_data"
    }
   ],
   "source": [
    "Problem_setup = {'Names': ['Start', 'Room 1', 'Room 2', 'Room 3'],\n",
    "                 'Type': [0, 1, 2, 3], \n",
    "                 'Coordinates': [[0,0], [0,8], [8,0], [8,8]],\n",
    "                 'from_to' : [[0, 1], [1, 3], [3, 2], [2, 0], [0, 3], [1, 2]], \n",
    "                 'Location': [['S', 'N'], ['E', 'W'], ['N', 'S'], ['W', 'E'], ['SE', 'NW'], ['NE', 'SW']],\n",
    "                 'Battery_consumption': [0, 0, 0, 0, 0 ,0],\n",
    "                 'Duration': [0, 0, 0, 0, 0 ,0]}\n",
    "P2 = Rover_PG()\n",
    "P2.Gen_Problem(Problem_setup)\n",
    "Rend.update_env(P2.Zones)\n",
    "Rend.env_render()"
   ]
  },
  {
   "cell_type": "code",
   "execution_count": null,
   "metadata": {},
   "outputs": [],
   "source": []
  },
  {
   "cell_type": "code",
   "execution_count": null,
   "metadata": {},
   "outputs": [],
   "source": []
  }
 ],
 "metadata": {
  "kernelspec": {
   "display_name": "Python 3",
   "language": "python",
   "name": "python3"
  },
  "language_info": {
   "codemirror_mode": {
    "name": "ipython",
    "version": 3
   },
   "file_extension": ".py",
   "mimetype": "text/x-python",
   "name": "python",
   "nbconvert_exporter": "python",
   "pygments_lexer": "ipython3",
   "version": "3.7.9"
  }
 },
 "nbformat": 4,
 "nbformat_minor": 4
}
