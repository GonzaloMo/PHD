{
 "cells": [
  {
   "cell_type": "code",
   "execution_count": 1,
   "metadata": {},
   "outputs": [],
   "source": [
    "import Env_utils as env_util\n",
    "from Render import Render\n",
    "import numpy as np\n",
    "import random\n",
    "import Problem_Generator\n",
    "from ipycanvas import Canvas, hold_canvas\n",
    "import math\n",
    "from time import sleep\n",
    "\n",
    "\n",
    "Rend = Render()"
   ]
  },
  {
   "cell_type": "markdown",
   "metadata": {},
   "source": [
    "# Tests\n",
    "## Room Generator \n",
    "In this test we can generate as many rooms as we want with random layout"
   ]
  },
  {
   "cell_type": "code",
   "execution_count": 2,
   "metadata": {
    "scrolled": false
   },
   "outputs": [
    {
     "data": {
      "application/vnd.jupyter.widget-view+json": {
       "model_id": "bd5c6d52d37945fd94899a20d4c8d386",
       "version_major": 2,
       "version_minor": 0
      },
      "text/plain": [
       "Canvas(height=600, width=600)"
      ]
     },
     "metadata": {},
     "output_type": "display_data"
    }
   ],
   "source": [
    "number_of_rooms = 4\n",
    "P1 = Problem_Generator.GCR_PG()\n",
    "for i in range(0,number_of_rooms):\n",
    "    if i >= 4:\n",
    "        P1.generate_1_room('Room_'+str(i),random.randint(0, 3))\n",
    "    else:\n",
    "        P1.generate_1_room('Room_'+str(i),i)\n",
    "# Render\n",
    "Rend.update_env(P1.Rooms)\n",
    "canvas_1 = Rend.env_render()\n",
    "canvas_1"
   ]
  },
  {
   "cell_type": "markdown",
   "metadata": {},
   "source": [
    "## Connection Generator\n",
    "The connection can only be establish in 8 spots marken with a star in this picture"
   ]
  },
  {
   "cell_type": "code",
   "execution_count": 3,
   "metadata": {
    "scrolled": false
   },
   "outputs": [
    {
     "data": {
      "application/vnd.jupyter.widget-view+json": {
       "model_id": "84684bf772ce44869901fe82f49c10dc",
       "version_major": 2,
       "version_minor": 0
      },
      "text/plain": [
       "Canvas(height=600, width=600)"
      ]
     },
     "metadata": {},
     "output_type": "display_data"
    }
   ],
   "source": [
    "Location = 'Random'\n",
    "Possible_Locations = P1.Rooms[0].Possible_Locations\n",
    "if Location == 'Random':\n",
    "    loc_1 = random.choice(Possible_Locations)\n",
    "else:\n",
    "    loc_1 = Location\n",
    "Bat_C = 0\n",
    "\n",
    "ind_1 = Possible_Locations.index(loc_1)\n",
    "ind_2 = int(7-ind_1)\n",
    "loc_2 = Possible_Locations[ind_2]\n",
    "P1.generate_1_connection(P1.Rooms[0].room_id, P1.Rooms[1].room_id, loc_1, loc_2, Bat_C)\n",
    "P1.generate_1_connection(P1.Rooms[0].room_id, P1.Rooms[2].room_id, loc_1, loc_2, Bat_C)\n",
    "P1.generate_1_connection(P1.Rooms[1].room_id, P1.Rooms[2].room_id, loc_1, loc_2, Bat_C)\n",
    "P1.generate_1_connection(P1.Rooms[2].room_id, P1.Rooms[3].room_id, loc_1, loc_2, Bat_C)\n",
    "P1.generate_1_connection(P1.Rooms[3].room_id, P1.Rooms[1].room_id, loc_1, loc_2, Bat_C)\n",
    "\n",
    "# Render\n",
    "Rend.update_env(P1.Rooms)\n",
    "canvas_1 = Rend.env_render()\n",
    "canvas_1"
   ]
  },
  {
   "cell_type": "markdown",
   "metadata": {},
   "source": [
    "## Create Robot Class         "
   ]
  },
  {
   "cell_type": "code",
   "execution_count": 4,
   "metadata": {},
   "outputs": [],
   "source": [
    "class Robot(object):\n",
    "    def __init__(self, initial_pos=[0,0], inital_room_id=0):\n",
    "        self.pos = np.asarray(initial_pos)\n",
    "        self.room_id = inital_room_id\n",
    "        \n",
    "    def move_to(self, x, y):\n",
    "        self.pos = np.array([x, y])\n",
    "        \n",
    "    def change_room(self, next_room):\n",
    "        self.room_id = next_room"
   ]
  },
  {
   "cell_type": "markdown",
   "metadata": {},
   "source": [
    "## Render Robot\n",
    "Render the robot in a random room and position"
   ]
  },
  {
   "cell_type": "code",
   "execution_count": 5,
   "metadata": {
    "scrolled": false
   },
   "outputs": [
    {
     "data": {
      "application/vnd.jupyter.widget-view+json": {
       "model_id": "84684bf772ce44869901fe82f49c10dc",
       "version_major": 2,
       "version_minor": 0
      },
      "text/plain": [
       "Canvas(height=600, width=600)"
      ]
     },
     "metadata": {},
     "output_type": "display_data"
    }
   ],
   "source": [
    "RBT = Robot()\n",
    "P1.generate_1_connection(P1.Rooms[0].room_id, P1.Rooms[1].room_id, 'S', 'N', 0)\n",
    "canvas_1 = Rend.Single_connection(canvas_1, P1.Rooms[1], P1.Rooms[3], color='blue')\n",
    "Rend.update_env(P1.Rooms)\n",
    "canvas_1 = Rend.robot(canvas_1, RBT.pos[0], RBT.pos[1], RBT.room_id)\n",
    "canvas_1"
   ]
  },
  {
   "cell_type": "markdown",
   "metadata": {},
   "source": [
    "# Whole Problem Generator"
   ]
  },
  {
   "cell_type": "code",
   "execution_count": 6,
   "metadata": {},
   "outputs": [
    {
     "data": {
      "application/vnd.jupyter.widget-view+json": {
       "model_id": "2ec5eb039d1e41d8a0bc11af0b1d0a94",
       "version_major": 2,
       "version_minor": 0
      },
      "text/plain": [
       "Canvas(height=600, width=600)"
      ]
     },
     "metadata": {},
     "output_type": "display_data"
    }
   ],
   "source": [
    "Problem_setup = {'Names': ['Start', 'Room 1', 'Room 2', 'Room 3'],\n",
    "                 'Type': [0, 1, 2, 3],                 \n",
    "                 'from_to' : [[0, 1], [1, 3], [3, 2], [2, 0], [0, 3], [1, 2]], \n",
    "                 'Location': [['S', 'N'], ['E', 'W'], ['N', 'S'], ['W', 'E'], ['SE', 'NW'], ['NE', 'SW']],\n",
    "                 'Battery_consumption': [0, 0, 0, 0, 0 ,0]}\n",
    "P2 = Problem_Generator.GCR_PG()\n",
    "P2.Gen_Problem(Problem_setup)\n",
    "Rend.update_env(P2.Rooms)\n",
    "Rend.env_render()"
   ]
  },
  {
   "cell_type": "code",
   "execution_count": 8,
   "metadata": {},
   "outputs": [
    {
     "name": "stdout",
     "output_type": "stream",
     "text": [
      "[[2.24 1.79]\n",
      " [2.31 1.57]]\n"
     ]
    }
   ],
   "source": []
  },
  {
   "cell_type": "code",
   "execution_count": null,
   "metadata": {},
   "outputs": [],
   "source": []
  }
 ],
 "metadata": {
  "kernelspec": {
   "display_name": "Python 3",
   "language": "python",
   "name": "python3"
  },
  "language_info": {
   "codemirror_mode": {
    "name": "ipython",
    "version": 3
   },
   "file_extension": ".py",
   "mimetype": "text/x-python",
   "name": "python",
   "nbconvert_exporter": "python",
   "pygments_lexer": "ipython3",
   "version": "3.7.9"
  }
 },
 "nbformat": 4,
 "nbformat_minor": 4
}
